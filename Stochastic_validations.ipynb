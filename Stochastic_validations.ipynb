{
 "cells": [
  {
   "cell_type": "markdown",
   "metadata": {},
   "source": [
    "## Stochastic validations\n",
    "\n",
    "We'd like to score the teams based on 100 realizations of their models — most of which are stochastic and take a random seed parameter. Please see the notebooks with `_VALIDATION` suffixes to see how the realizations we generated. Each one of those notebooks generartes a file called `<team>_100_realizations.npy`, which is what we are consuming here.\n",
    "\n",
    "This notebook is super hacky I'm afraid."
   ]
  },
  {
   "cell_type": "code",
   "execution_count": 1,
   "metadata": {
    "collapsed": false
   },
   "outputs": [],
   "source": [
    "import numpy as np\n",
    "import pandas as pd\n",
    "import matplotlib.pyplot as plt\n",
    "%matplotlib inline\n",
    "\n",
    "from sklearn.metrics import confusion_matrix, f1_score\n",
    "from utils import accuracy, accuracy_adjacent, display_cm, facies_labels"
   ]
  },
  {
   "cell_type": "markdown",
   "metadata": {},
   "source": [
    "Using globals. I am a miserable person."
   ]
  },
  {
   "cell_type": "code",
   "execution_count": 2,
   "metadata": {
    "collapsed": false
   },
   "outputs": [
    {
     "data": {
      "text/html": [
       "<div>\n",
       "<table border=\"1\" class=\"dataframe\">\n",
       "  <thead>\n",
       "    <tr style=\"text-align: right;\">\n",
       "      <th></th>\n",
       "      <th></th>\n",
       "      <th>Unnamed: 0</th>\n",
       "    </tr>\n",
       "    <tr>\n",
       "      <th>Well Name</th>\n",
       "      <th>Depth</th>\n",
       "      <th></th>\n",
       "    </tr>\n",
       "  </thead>\n",
       "  <tbody>\n",
       "    <tr>\n",
       "      <th rowspan=\"5\" valign=\"top\">STUART</th>\n",
       "      <th>2808.0</th>\n",
       "      <td>0</td>\n",
       "    </tr>\n",
       "    <tr>\n",
       "      <th>2808.5</th>\n",
       "      <td>1</td>\n",
       "    </tr>\n",
       "    <tr>\n",
       "      <th>2809.0</th>\n",
       "      <td>2</td>\n",
       "    </tr>\n",
       "    <tr>\n",
       "      <th>2809.5</th>\n",
       "      <td>3</td>\n",
       "    </tr>\n",
       "    <tr>\n",
       "      <th>2810.0</th>\n",
       "      <td>4</td>\n",
       "    </tr>\n",
       "  </tbody>\n",
       "</table>\n",
       "</div>"
      ],
      "text/plain": [
       "                  Unnamed: 0\n",
       "Well Name Depth             \n",
       "STUART    2808.0           0\n",
       "          2808.5           1\n",
       "          2809.0           2\n",
       "          2809.5           3\n",
       "          2810.0           4"
      ]
     },
     "execution_count": 2,
     "metadata": {},
     "output_type": "execute_result"
    }
   ],
   "source": [
    "PRED = pd.read_csv('prediction_depths.csv')\n",
    "PRED.set_index([\"Well Name\", \"Depth\"], inplace=True)\n",
    "PRED.head()"
   ]
  },
  {
   "cell_type": "code",
   "execution_count": 3,
   "metadata": {
    "collapsed": false
   },
   "outputs": [
    {
     "data": {
      "text/html": [
       "<div>\n",
       "<table border=\"1\" class=\"dataframe\">\n",
       "  <thead>\n",
       "    <tr style=\"text-align: right;\">\n",
       "      <th></th>\n",
       "      <th></th>\n",
       "      <th>LithCode</th>\n",
       "      <th>LithLabel</th>\n",
       "    </tr>\n",
       "    <tr>\n",
       "      <th>Well Name</th>\n",
       "      <th>Depth</th>\n",
       "      <th></th>\n",
       "      <th></th>\n",
       "    </tr>\n",
       "  </thead>\n",
       "  <tbody>\n",
       "    <tr>\n",
       "      <th rowspan=\"5\" valign=\"top\">STUART</th>\n",
       "      <th>2807.5</th>\n",
       "      <td>3</td>\n",
       "      <td>NM Shly Silt</td>\n",
       "    </tr>\n",
       "    <tr>\n",
       "      <th>2808.0</th>\n",
       "      <td>3</td>\n",
       "      <td>NM Shly Silt</td>\n",
       "    </tr>\n",
       "    <tr>\n",
       "      <th>2808.5</th>\n",
       "      <td>3</td>\n",
       "      <td>NM Shly Silt</td>\n",
       "    </tr>\n",
       "    <tr>\n",
       "      <th>2809.0</th>\n",
       "      <td>3</td>\n",
       "      <td>NM Shly Silt</td>\n",
       "    </tr>\n",
       "    <tr>\n",
       "      <th>2809.5</th>\n",
       "      <td>3</td>\n",
       "      <td>NM Shly Silt</td>\n",
       "    </tr>\n",
       "  </tbody>\n",
       "</table>\n",
       "</div>"
      ],
      "text/plain": [
       "                  LithCode     LithLabel\n",
       "Well Name Depth                         \n",
       "STUART    2807.5         3  NM Shly Silt\n",
       "          2808.0         3  NM Shly Silt\n",
       "          2808.5         3  NM Shly Silt\n",
       "          2809.0         3  NM Shly Silt\n",
       "          2809.5         3  NM Shly Silt"
      ]
     },
     "execution_count": 3,
     "metadata": {},
     "output_type": "execute_result"
    }
   ],
   "source": [
    "TRUE = pd.read_csv('blind_stuart_crawford_core_facies.csv')\n",
    "TRUE.rename(columns={'Depth.ft': 'Depth'}, inplace=True)\n",
    "TRUE.rename(columns={'WellName': 'Well Name'}, inplace=True)\n",
    "TRUE.set_index([\"Well Name\", \"Depth\"], inplace=True)\n",
    "TRUE.head()"
   ]
  },
  {
   "cell_type": "code",
   "execution_count": 4,
   "metadata": {
    "collapsed": true
   },
   "outputs": [],
   "source": [
    "def get_accuracies(y_preds):\n",
    "    \"\"\"\n",
    "    Get the F1 scores from all the y_preds.\n",
    "    y_blind is a 1D array. y_preds is a 2D array.\n",
    "    \"\"\"\n",
    "    accs = []\n",
    "    for y_pred in y_preds:\n",
    "        PRED['Facies'] = y_pred\n",
    "        all_data = PRED.join(TRUE, how='inner')\n",
    "        y_blind = all_data['LithCode'].values\n",
    "        y_pred = all_data['Facies'].values\n",
    "        y_pred = y_pred[y_blind!=11]\n",
    "        y_blind = y_blind[y_blind!=11]\n",
    "        cv_conf = confusion_matrix(y_blind, y_pred)\n",
    "        accs.append(accuracy(cv_conf))\n",
    "    return np.array(accs)"
   ]
  },
  {
   "cell_type": "code",
   "execution_count": 5,
   "metadata": {
    "collapsed": false
   },
   "outputs": [
    {
     "name": "stdout",
     "output_type": "stream",
     "text": [
      "LA-Team             0.6388\n",
      "PA-Team             0.6250\n",
      "ispl                0.6231\n",
      "esaTeam             0.6225\n",
      "SHandPR             0.6200\n",
      "HouMath             0.6188\n"
     ]
    },
    {
     "data": {
      "image/png": "[encoded data removed]",
      "text/plain": [
       "<matplotlib.figure.Figure at 0x1112a2320>"
      ]
     },
     "metadata": {},
     "output_type": "display_data"
    }
   ],
   "source": [
    "from glob import glob\n",
    "from os import path\n",
    "import operator\n",
    "\n",
    "scores, medians = {}, {}\n",
    "for f in glob('./*/*_100_realizations.npy'):\n",
    "    team = path.basename(f).split('_')[0]\n",
    "    y_preds = np.load(f)\n",
    "    scores[team] = get_accuracies(y_preds)\n",
    "    medians[team] = np.median(scores[team])\n",
    "    plt.hist(pd.Series(scores[team]), alpha=0.5)\n",
    "    \n",
    "for t, m in sorted(medians.items(), key=operator.itemgetter(1), reverse=True):\n",
    "    print(\"{:20s}{:.4f}\".format(t, m))"
   ]
  },
  {
   "cell_type": "markdown",
   "metadata": {},
   "source": [
    "## Look more closely at LA Team"
   ]
  },
  {
   "cell_type": "code",
   "execution_count": 6,
   "metadata": {
    "collapsed": false
   },
   "outputs": [
    {
     "data": {
      "text/plain": [
       "(array([  3.,   4.,   8.,  13.,  20.,  17.,  16.,  13.,   3.,   3.]),\n",
       " array([ 0.62   ,  0.62375,  0.6275 ,  0.63125,  0.635  ,  0.63875,\n",
       "         0.6425 ,  0.64625,  0.65   ,  0.65375,  0.6575 ]),\n",
       " <a list of 10 Patch objects>)"
      ]
     },
     "execution_count": 6,
     "metadata": {},
     "output_type": "execute_result"
    },
    {
     "data": {
      "image/png": "[encoded data removed]",
      "text/plain": [
       "<matplotlib.figure.Figure at 0x112cfcda0>"
      ]
     },
     "metadata": {},
     "output_type": "display_data"
    }
   ],
   "source": [
    "s = pd.Series(scores['LA-Team'])\n",
    "plt.hist(s)"
   ]
  },
  {
   "cell_type": "code",
   "execution_count": 7,
   "metadata": {
    "collapsed": false
   },
   "outputs": [
    {
     "data": {
      "text/plain": [
       "count    100.000000\n",
       "mean       0.638575\n",
       "std        0.007777\n",
       "min        0.620000\n",
       "25%        0.633750\n",
       "50%        0.638750\n",
       "75%        0.645000\n",
       "max        0.657500\n",
       "dtype: float64"
      ]
     },
     "execution_count": 7,
     "metadata": {},
     "output_type": "execute_result"
    }
   ],
   "source": [
    "s.describe()"
   ]
  },
  {
   "cell_type": "code",
   "execution_count": null,
   "metadata": {
    "collapsed": true
   },
   "outputs": [],
   "source": []
  }
 ],
 "metadata": {
  "anaconda-cloud": {},
  "kernelspec": {
   "display_name": "Python [conda env:python3]",
   "language": "python",
   "name": "conda-env-python3-py"
  },
  "language_info": {
   "codemirror_mode": {
    "name": "ipython",
    "version": 3
   },
   "file_extension": ".py",
   "mimetype": "text/x-python",
   "name": "python",
   "nbconvert_exporter": "python",
   "pygments_lexer": "ipython3",
   "version": "3.5.2"
  }
 },
 "nbformat": 4,
 "nbformat_minor": 1
}
