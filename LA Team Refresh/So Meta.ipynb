{
 "cells": [
  {
   "cell_type": "markdown",
   "metadata": {},
   "source": [
    "## Stop, meta time"
   ]
  },
  {
   "cell_type": "markdown",
   "metadata": {},
   "source": [
    "![title](well_log.jpg)"
   ]
  },
  {
   "cell_type": "code",
   "execution_count": 11,
   "metadata": {
    "collapsed": false
   },
   "outputs": [],
   "source": [
    "import pandas as pd\n",
    "from keras.utils import np_utils\n",
    "import numpy as np"
   ]
  },
  {
   "cell_type": "code",
   "execution_count": 8,
   "metadata": {
    "collapsed": false
   },
   "outputs": [
    {
     "name": "stderr",
     "output_type": "stream",
     "text": [
      "E:\\Anaconda3\\lib\\site-packages\\keras\\utils\\np_utils.py:23: VisibleDeprecationWarning: using a non-integer number instead of an integer will result in an error in the future\n",
      "  Y[i, y[i]] = 1.\n"
     ]
    }
   ],
   "source": [
    "houmath = pd.read_csv(\"../HouMath/Prediction6.csv\", delimiter=\",\")\n",
    "houmath_f1 = 0.63\n",
    "houmath_facies = np_utils.to_categorical(houmath[\"Facies\"]-1, nb_classes=9)\n",
    "\n",
    "\n",
    "ar4 = pd.read_csv(\"../ar4/ar4_predicted_facies_submission002.csv\", delimiter=\",\")\n",
    "ar4_f1 = 0.606\n",
    "ar4_facies = np_utils.to_categorical(ar4[\"Facies\"]-1, nb_classes=9)\n",
    "\n",
    "bestagini = pd.read_csv(\"../ispl/well_data_with_facies_try02.csv\", delimiter=\",\")\n",
    "bestagini_f1 = 0.604\n",
    "bestagini_facies = np_utils.to_categorical(bestagini[\"Facies\"]-1, nb_classes=9)\n",
    "\n",
    "birdteam =  pd.read_csv(\"../Bird_Team/XmasPreds_4.csv\", delimiter=\",\")\n",
    "birdteam_f1 = 0.598\n",
    "birdteam_facies = np_utils.to_categorical(birdteam[\"Facies\"]-1, nb_classes=9)\n",
    "\n",
    "sum_f1 = ar4_f1+bestagini_f1+houmath_f1+birdteam_f1"
   ]
  },
  {
   "cell_type": "code",
   "execution_count": 9,
   "metadata": {
    "collapsed": false
   },
   "outputs": [
    {
     "name": "stdout",
     "output_type": "stream",
     "text": [
      "   Unnamed: 0 Formation Well Name   Depth      GR  ILD_log10  DeltaPHI  PHIND  \\\n",
      "0           0     A1 SH    STUART  2808.0  66.276      0.630       3.3  10.65   \n",
      "1           1     A1 SH    STUART  2808.5  77.252      0.585       6.5  11.95   \n",
      "2           2     A1 SH    STUART  2809.0  82.899      0.566       9.4  13.60   \n",
      "3           3     A1 SH    STUART  2809.5  80.671      0.593       9.5  13.25   \n",
      "4           4     A1 SH    STUART  2810.0  75.971      0.638       8.7  12.35   \n",
      "\n",
      "      PE  NM_M  RELPOS  Facies  \n",
      "0  3.591     1   1.000       3  \n",
      "1  3.341     1   0.978       3  \n",
      "2  3.064     1   0.956       3  \n",
      "3  2.977     1   0.933       3  \n",
      "4  3.020     1   0.911       3  \n",
      "   Unnamed: 0 Formation Well Name   Depth      GR  ILD_log10  DeltaPHI  PHIND  \\\n",
      "0           0     A1 SH    STUART  2808.0  66.276      0.630       3.3  10.65   \n",
      "1           1     A1 SH    STUART  2808.5  77.252      0.585       6.5  11.95   \n",
      "2           2     A1 SH    STUART  2809.0  82.899      0.566       9.4  13.60   \n",
      "3           3     A1 SH    STUART  2809.5  80.671      0.593       9.5  13.25   \n",
      "4           4     A1 SH    STUART  2810.0  75.971      0.638       8.7  12.35   \n",
      "\n",
      "      PE  NM_M  RELPOS  Facies  \n",
      "0  3.591     1   1.000       3  \n",
      "1  3.341     1   0.978       3  \n",
      "2  3.064     1   0.956       3  \n",
      "3  2.977     1   0.933       3  \n",
      "4  3.020     1   0.911       3  \n",
      "   Unnamed: 0 Formation Well Name   Depth      GR  ILD_log10  DeltaPHI  PHIND  \\\n",
      "0           0     A1 SH    STUART  2808.0  66.276      0.630       3.3  10.65   \n",
      "1           1     A1 SH    STUART  2808.5  77.252      0.585       6.5  11.95   \n",
      "2           2     A1 SH    STUART  2809.0  82.899      0.566       9.4  13.60   \n",
      "3           3     A1 SH    STUART  2809.5  80.671      0.593       9.5  13.25   \n",
      "4           4     A1 SH    STUART  2810.0  75.971      0.638       8.7  12.35   \n",
      "\n",
      "      PE  NM_M  RELPOS  Facies  \n",
      "0  3.591     1   1.000       3  \n",
      "1  3.341     1   0.978       3  \n",
      "2  3.064     1   0.956       3  \n",
      "3  2.977     1   0.933       3  \n",
      "4  3.020     1   0.911       3  \n",
      "   Unnamed: 0   Depth      GR  ILD_log10  DeltaPHI  PHIND     PE  NM_M  \\\n",
      "0           0  2808.0  66.276      0.630       3.3  10.65  3.591     1   \n",
      "1           1  2808.5  77.252      0.585       6.5  11.95  3.341     1   \n",
      "2           2  2809.0  82.899      0.566       9.4  13.60  3.064     1   \n",
      "3           3  2809.5  80.671      0.593       9.5  13.25  2.977     1   \n",
      "4           4  2810.0  75.971      0.638       8.7  12.35  3.020     1   \n",
      "\n",
      "   RELPOS  formation_size   ...    sh_Formation_lag_2  a1_Formation_lead_2  \\\n",
      "0   1.000              43   ...                     1                    1   \n",
      "1   0.978              43   ...                     1                    1   \n",
      "2   0.956              43   ...                     1                    1   \n",
      "3   0.933              43   ...                     1                    1   \n",
      "4   0.911              43   ...                     1                    1   \n",
      "\n",
      "   b1_Formation_lead_2  b2_Formation_lead_2  b3_Formation_lead_2  \\\n",
      "0                    0                    0                    0   \n",
      "1                    0                    0                    0   \n",
      "2                    0                    0                    0   \n",
      "3                    0                    0                    0   \n",
      "4                    0                    0                    0   \n",
      "\n",
      "   b4_Formation_lead_2  b5_Formation_lead_2  lm_Formation_lead_2  \\\n",
      "0                    0                    0                    0   \n",
      "1                    0                    0                    0   \n",
      "2                    0                    0                    0   \n",
      "3                    0                    0                    0   \n",
      "4                    0                    0                    0   \n",
      "\n",
      "   sh_Formation_lead_2  Facies  \n",
      "0                    1     2.0  \n",
      "1                    1     3.0  \n",
      "2                    1     3.0  \n",
      "3                    1     3.0  \n",
      "4                    1     3.0  \n",
      "\n",
      "[5 rows x 439 columns]\n"
     ]
    }
   ],
   "source": [
    "print( houmath.head())\n",
    "print( ar4.head())\n",
    "print( bestagini.head())\n",
    "print( birdteam.head())"
   ]
  },
  {
   "cell_type": "code",
   "execution_count": 10,
   "metadata": {
    "collapsed": false
   },
   "outputs": [
    {
     "name": "stdout",
     "output_type": "stream",
     "text": [
      "[[ 0.          0.          1.         ...,  0.          0.          0.        ]\n",
      " [ 0.          0.          1.         ...,  0.          0.          0.        ]\n",
      " [ 0.          0.          1.         ...,  0.          0.          0.        ]\n",
      " ..., \n",
      " [ 0.          0.25840853  0.74159147 ...,  0.          0.          0.        ]\n",
      " [ 0.          0.25840853  0.74159147 ...,  0.          0.          0.        ]\n",
      " [ 0.49302707  0.50697293  0.         ...,  0.          0.          0.        ]]\n"
     ]
    }
   ],
   "source": [
    "meta_facies = (bestagini_f1*bestagini_facies + ar4_f1*ar4_facies \n",
    "               + birdteam_f1*bestagini_facies + houmath_f1*houmath_facies)/(sum_f1)\n",
    "print(meta_facies)"
   ]
  },
  {
   "cell_type": "code",
   "execution_count": 13,
   "metadata": {
    "collapsed": false
   },
   "outputs": [
    {
     "name": "stdout",
     "output_type": "stream",
     "text": [
      "[3 3 3 3 3 3 3 3 3 2 2 2 2 2 2 2 2 2 2 2 2 2 2 2 1 1 1 1 1 1 2 2 2 2 2 2 2\n",
      " 2 3 3 3 3 3 8 8 8 8 8 8 6 6 6 6 6 4 4 4 4 4 4 4 4 6 6 6 6 6 6 6 6 8 8 8 8\n",
      " 8 8 8 8 8 8 8 8 8 8 8 8 8 6 6 6 6 6 6 6 6 6 6 6 4 4 4 4 4 4 4 4 6 6 6 6 8\n",
      " 8 8 8 8 8 8 8 8 8 3 3 3 3 2 2 2 2 2 2 2 2 2 2 2 2 2 2 2 2 2 2 2 2 2 2 2 3\n",
      " 3 3 8 8 8 8 8 8 8 8 8 8 8 8 8 8 7 7 7 7 6 6 6 6 6 6 6 6 6 6 8 8 8 8 3 3 3\n",
      " 3 3 3 3 3 3 2 2 2 3 3 3 3 3 3 8 8 8 8 8 8 8 8 8 8 9 9 9 9 9 9 8 8 8 8 6 6\n",
      " 6 6 6 6 6 3 3 3 3 3 3 3 2 2 2 2 2 2 2 2 2 2 2 2 2 3 3 8 8 8 8 8 8 8 8 6 6\n",
      " 2 2 2 2 2 2 2 2 2 2 2 2 2 2 2 2 3 3 3 8 8 8 8 8 8 8 8 8 8 8 6 6 3 3 3 3 8\n",
      " 8 8 8 8 8 8 8 8 7 7 7 7 7 7 7 7 6 6 6 6 6 6 6 8 9 9 9 9 8 8 8 6 6 6 6 6 6\n",
      " 6 3 3 3 3 3 3 3 3 3 3 3 3 3 3 3 2 2 2 2 2 2 2 2 2 2 2 2 2 2 2 2 2 2 2 3 3\n",
      " 3 3 3 5 8 8 8 8 8 8 8 8 8 8 8 8 8 8 8 8 8 8 8 8 8 5 5 5 5 7 7 8 8 8 8 8 5\n",
      " 5 5 5 5 5 5 5 5 5 5 5 5 5 5 5 5 5 5 5 5 5 5 5 5 6 6 6 6 6 4 4 4 4 4 4 4 4\n",
      " 4 4 4 4 4 4 4 4 4 6 6 4 4 4 4 4 4 4 4 4 4 4 4 4 4 4 4 4 4 4 5 8 8 8 8 8 8\n",
      " 8 8 8 8 7 7 7 7 7 7 7 7 4 4 4 4 4 4 4 4 4 4 4 4 4 4 4 4 5 6 6 6 6 6 4 4 4\n",
      " 4 8 8 8 8 8 8 6 6 6 6 6 6 8 8 8 6 6 6 6 6 6 6 4 4 4 4 4 7 7 8 8 7 7 7 7 7\n",
      " 7 7 8 8 8 8 8 7 6 6 4 4 4 6 6 6 8 8 8 8 8 8 8 8 8 8 6 6 6 6 8 8 8 8 8 8 8\n",
      " 8 8 8 8 8 8 8 6 6 6 6 6 6 6 6 6 6 6 6 6 8 8 8 8 8 8 6 6 3 2 2 2 2 2 2 2 2\n",
      " 2 2 2 2 2 2 2 2 2 3 3 8 8 8 8 8 8 8 8 8 8 8 7 7 7 8 8 7 7 7 7 7 7 7 7 7 8\n",
      " 8 6 3 2 2 2 2 2 2 2 2 2 2 2 2 2 2 2 2 3 3 8 8 8 8 8 8 8 8 8 8 8 8 6 6 6 6\n",
      " 2 2 2 2 2 2 2 2 2 2 2 2 2 2 2 2 2 2 3 3 5 8 8 8 8 8 8 8 8 6 6 6 6 6 6 6 6\n",
      " 2 2 2 2 2 2 2 2 2 3 3 3 3 8 8 8 8 8 8 8 7 7 7 7 7 7 7 7 7 7 7 7 7 7 7 7 7\n",
      " 7 7 7 7 7 7 7 7 7 7 7 7 7 7 7 7 7 7 7 7 7 7 7 7 8 8 8 8 6 6 6 6 8 8 8 3 3\n",
      " 3 3 3 2 2 2 2 2 2 2 2 2 3 3 3 2]\n"
     ]
    }
   ],
   "source": [
    "metasubmission = np.argmax(meta_facies, axis=1) + 1\n",
    "print (metasubmission)"
   ]
  },
  {
   "cell_type": "code",
   "execution_count": 17,
   "metadata": {
    "collapsed": false
   },
   "outputs": [
    {
     "name": "stdout",
     "output_type": "stream",
     "text": [
      "  Formation Well Name   Depth      GR  ILD_log10  DeltaPHI  PHIND     PE  \\\n",
      "0     A1 SH    STUART  2808.0  66.276      0.630       3.3  10.65  3.591   \n",
      "1     A1 SH    STUART  2808.5  77.252      0.585       6.5  11.95  3.341   \n",
      "2     A1 SH    STUART  2809.0  82.899      0.566       9.4  13.60  3.064   \n",
      "3     A1 SH    STUART  2809.5  80.671      0.593       9.5  13.25  2.977   \n",
      "4     A1 SH    STUART  2810.0  75.971      0.638       8.7  12.35  3.020   \n",
      "\n",
      "   NM_M  RELPOS  \n",
      "0     1   1.000  \n",
      "1     1   0.978  \n",
      "2     1   0.956  \n",
      "3     1   0.933  \n",
      "4     1   0.911  \n",
      "  Formation Well Name   Depth      GR  ILD_log10  DeltaPHI  PHIND     PE  \\\n",
      "0     A1 SH    STUART  2808.0  66.276      0.630       3.3  10.65  3.591   \n",
      "1     A1 SH    STUART  2808.5  77.252      0.585       6.5  11.95  3.341   \n",
      "2     A1 SH    STUART  2809.0  82.899      0.566       9.4  13.60  3.064   \n",
      "3     A1 SH    STUART  2809.5  80.671      0.593       9.5  13.25  2.977   \n",
      "4     A1 SH    STUART  2810.0  75.971      0.638       8.7  12.35  3.020   \n",
      "\n",
      "   NM_M  RELPOS  Facies  \n",
      "0     1   1.000       3  \n",
      "1     1   0.978       3  \n",
      "2     1   0.956       3  \n",
      "3     1   0.933       3  \n",
      "4     1   0.911       3  \n"
     ]
    }
   ],
   "source": [
    "test_data = pd.read_csv(\"../validation_data_nofacies.csv\", delimiter=\",\")\n",
    "print(test_data.head())\n",
    "test_data[\"Facies\"] = metasubmission\n",
    "\n",
    "test_data.to_csv(\"the_meta_submission.csv\")\n",
    "\n",
    "print(test_data.head())"
   ]
  },
  {
   "cell_type": "code",
   "execution_count": null,
   "metadata": {
    "collapsed": true
   },
   "outputs": [],
   "source": []
  }
 ],
 "metadata": {
  "anaconda-cloud": {},
  "kernelspec": {
   "display_name": "Python [default]",
   "language": "python",
   "name": "python3"
  },
  "language_info": {
   "codemirror_mode": {
    "name": "ipython",
    "version": 3
   },
   "file_extension": ".py",
   "mimetype": "text/x-python",
   "name": "python",
   "nbconvert_exporter": "python",
   "pygments_lexer": "ipython3",
   "version": "3.5.2"
  }
 },
 "nbformat": 4,
 "nbformat_minor": 1
}
